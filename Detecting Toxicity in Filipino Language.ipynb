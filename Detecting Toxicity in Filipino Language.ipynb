{
 "cells": [
  {
   "cell_type": "markdown",
   "id": "c9ef7333",
   "metadata": {},
   "source": [
    "# Import libraries and dataset"
   ]
  },
  {
   "cell_type": "code",
   "execution_count": 11,
   "id": "d38cd56c",
   "metadata": {
    "tags": []
   },
   "outputs": [
    {
     "data": {
      "text/html": [
       "<div>\n",
       "<style scoped>\n",
       "    .dataframe tbody tr th:only-of-type {\n",
       "        vertical-align: middle;\n",
       "    }\n",
       "\n",
       "    .dataframe tbody tr th {\n",
       "        vertical-align: top;\n",
       "    }\n",
       "\n",
       "    .dataframe thead th {\n",
       "        text-align: right;\n",
       "    }\n",
       "</style>\n",
       "<table border=\"1\" class=\"dataframe\">\n",
       "  <thead>\n",
       "    <tr style=\"text-align: right;\">\n",
       "      <th></th>\n",
       "      <th>text</th>\n",
       "      <th>label</th>\n",
       "    </tr>\n",
       "  </thead>\n",
       "  <tbody>\n",
       "    <tr>\n",
       "      <th>0</th>\n",
       "      <td>putangina na gets ko yung partnership haha pwe...</td>\n",
       "      <td>0</td>\n",
       "    </tr>\n",
       "    <tr>\n",
       "      <th>1</th>\n",
       "      <td>nagugutom ako punyeta</td>\n",
       "      <td>0</td>\n",
       "    </tr>\n",
       "    <tr>\n",
       "      <th>2</th>\n",
       "      <td>punyeta para kanino ba talaga kayo</td>\n",
       "      <td>0</td>\n",
       "    </tr>\n",
       "    <tr>\n",
       "      <th>3</th>\n",
       "      <td>ulol manigas ka</td>\n",
       "      <td>1</td>\n",
       "    </tr>\n",
       "    <tr>\n",
       "      <th>4</th>\n",
       "      <td>putangina mo di sapat yung pakyu pakyu lang</td>\n",
       "      <td>1</td>\n",
       "    </tr>\n",
       "    <tr>\n",
       "      <th>...</th>\n",
       "      <td>...</td>\n",
       "      <td>...</td>\n",
       "    </tr>\n",
       "    <tr>\n",
       "      <th>11105</th>\n",
       "      <td>error talaga putangina</td>\n",
       "      <td>0</td>\n",
       "    </tr>\n",
       "    <tr>\n",
       "      <th>11106</th>\n",
       "      <td>ay ang tanga lang ng peg ko</td>\n",
       "      <td>0</td>\n",
       "    </tr>\n",
       "    <tr>\n",
       "      <th>11107</th>\n",
       "      <td>putangina bakit ganun yung story niya what the...</td>\n",
       "      <td>0</td>\n",
       "    </tr>\n",
       "    <tr>\n",
       "      <th>11108</th>\n",
       "      <td>sa twitter ko pa talaga dinala pagiging tarant...</td>\n",
       "      <td>0</td>\n",
       "    </tr>\n",
       "    <tr>\n",
       "      <th>11109</th>\n",
       "      <td>buti alam mo na pareho tayong bobo</td>\n",
       "      <td>0</td>\n",
       "    </tr>\n",
       "  </tbody>\n",
       "</table>\n",
       "<p>11110 rows × 2 columns</p>\n",
       "</div>"
      ],
      "text/plain": [
       "                                                    text  label\n",
       "0      putangina na gets ko yung partnership haha pwe...      0\n",
       "1                                  nagugutom ako punyeta      0\n",
       "2                     punyeta para kanino ba talaga kayo      0\n",
       "3                                        ulol manigas ka      1\n",
       "4            putangina mo di sapat yung pakyu pakyu lang      1\n",
       "...                                                  ...    ...\n",
       "11105                             error talaga putangina      0\n",
       "11106                        ay ang tanga lang ng peg ko      0\n",
       "11107  putangina bakit ganun yung story niya what the...      0\n",
       "11108  sa twitter ko pa talaga dinala pagiging tarant...      0\n",
       "11109                 buti alam mo na pareho tayong bobo      0\n",
       "\n",
       "[11110 rows x 2 columns]"
      ]
     },
     "execution_count": 11,
     "metadata": {},
     "output_type": "execute_result"
    }
   ],
   "source": [
    "import pandas as pd\n",
    "import xgboost as xgb\n",
    "from sklearn.feature_extraction.text import TfidfVectorizer\n",
    "from sklearn.model_selection import train_test_split, GridSearchCV\n",
    "from sklearn.metrics import classification_report, accuracy_score\n",
    "from stop_words import get_stop_words\n",
    "import pprint\n",
    "\n",
    "data = pd.read_csv(\"train_nlp.csv\")\n",
    "\n",
    "\n",
    "data"
   ]
  },
  {
   "cell_type": "markdown",
   "id": "c48cc39b",
   "metadata": {},
   "source": [
    "## Train Test Split 80 20"
   ]
  },
  {
   "cell_type": "code",
   "execution_count": 2,
   "id": "ea69b624",
   "metadata": {
    "tags": []
   },
   "outputs": [],
   "source": [
    "# Split data into features (X) and labels (y)\n",
    "X = data['text']\n",
    "y = data['label']\n",
    "\n",
    "# Split the data into training and testing sets\n",
    "X_train, X_test, y_train, y_test = train_test_split(X, y, test_size=0.2, random_state=42)"
   ]
  },
  {
   "cell_type": "markdown",
   "id": "38676a48",
   "metadata": {},
   "source": [
    "## Initialize TFIDF vectorizer and fit XGBOOST"
   ]
  },
  {
   "cell_type": "code",
   "execution_count": 3,
   "id": "6847bae3",
   "metadata": {
    "tags": []
   },
   "outputs": [],
   "source": [
    "tfidf_vectorizer = TfidfVectorizer(max_features=5000)\n",
    "X_train_tfidf = tfidf_vectorizer.fit_transform(X_train)\n",
    "X_test_tfidf = tfidf_vectorizer.transform(X_test)"
   ]
  },
  {
   "cell_type": "code",
   "execution_count": 4,
   "id": "357d11f5",
   "metadata": {},
   "outputs": [
    {
     "name": "stdout",
     "output_type": "stream",
     "text": [
      "Accuracy: 0.8451845184518452\n",
      "Classification Report:\n",
      "              precision    recall  f1-score   support\n",
      "\n",
      "           0       0.87      0.86      0.86      1261\n",
      "           1       0.82      0.83      0.82       961\n",
      "\n",
      "    accuracy                           0.85      2222\n",
      "   macro avg       0.84      0.84      0.84      2222\n",
      "weighted avg       0.85      0.85      0.85      2222\n",
      "\n"
     ]
    }
   ],
   "source": [
    "model_xgb = xgb.XGBClassifier(\n",
    "    learning_rate=0.1,\n",
    "    n_estimators=1000,\n",
    "    reg_alpha=0.1,\n",
    "    reg_lambda=0.1,\n",
    "    random_state=42)\n",
    "\n",
    "# Train the classifier on the TF-IDF transformed training data\n",
    "model_xgb.fit(X_train_tfidf, y_train)\n",
    "\n",
    "# Make predictions on the test data\n",
    "y_pred = model_xgb.predict(X_test_tfidf)\n",
    "\n",
    "# Evaluate the model\n",
    "accuracy = accuracy_score(y_test, y_pred)\n",
    "rep = classification_report(y_test, y_pred)\n",
    "\n",
    "print(f\"Accuracy: {accuracy}\")\n",
    "print(\"Classification Report:\")\n",
    "print(rep)"
   ]
  },
  {
   "cell_type": "code",
   "execution_count": 9,
   "id": "9bd50fca",
   "metadata": {
    "scrolled": true
   },
   "outputs": [
    {
     "data": {
      "image/png": "[encoded data removed]",
      "text/plain": [
       "<Figure size 800x600 with 1 Axes>"
      ]
     },
     "metadata": {},
     "output_type": "display_data"
    }
   ],
   "source": [
    "import seaborn as sns\n",
    "from sklearn.metrics import confusion_matrix\n",
    "\n",
    "# Assuming 'y_test' and 'y_pred' are your true labels and predicted labels, respectively\n",
    "conf_matrix = confusion_matrix(y_test, y_pred)\n",
    "\n",
    "# Plotting the confusion matrix\n",
    "plt.figure(figsize=(8, 6))\n",
    "sns.heatmap(conf_matrix, annot=True, fmt='d', cmap='Blues', cbar=False,\n",
    "            xticklabels=['Non-Toxic', 'Toxic'],\n",
    "            yticklabels=['Non-Toxic', 'Toxic'])\n",
    "plt.title('Confusion Matrix')\n",
    "plt.xlabel('Predicted')\n",
    "plt.ylabel('True')\n",
    "plt.show()"
   ]
  },
  {
   "cell_type": "code",
   "execution_count": 15,
   "id": "662d7cdd",
   "metadata": {
    "tags": []
   },
   "outputs": [
    {
     "name": "stdout",
     "output_type": "stream",
     "text": [
      "You are not Toxic\n"
     ]
    }
   ],
   "source": [
    "test_text = [\"gago mahal na mahal kita\"]\n",
    "\n",
    "\n",
    "test_text_tfidf = tfidf_vectorizer.transform(test_text)\n",
    "\n",
    "\n",
    "test_predictions = model_xgb.predict(test_text_tfidf)\n",
    "\n",
    "# Print the predicted labels (1 for toxic, 0 for non-toxic)\n",
    "if(test_predictions==1):\n",
    "    print(\"You are toxic\")\n",
    "else:\n",
    "    print(\"You are not Toxic\")"
   ]
  },
  {
   "cell_type": "code",
   "execution_count": null,
   "id": "abdce83d",
   "metadata": {},
   "outputs": [],
   "source": []
  }
 ],
 "metadata": {
  "kernelspec": {
   "display_name": "Python 3 (ipykernel)",
   "language": "python",
   "name": "python3"
  },
  "language_info": {
   "codemirror_mode": {
    "name": "ipython",
    "version": 3
   },
   "file_extension": ".py",
   "mimetype": "text/x-python",
   "name": "python",
   "nbconvert_exporter": "python",
   "pygments_lexer": "ipython3",
   "version": "3.11.4"
  }
 },
 "nbformat": 4,
 "nbformat_minor": 5
}
